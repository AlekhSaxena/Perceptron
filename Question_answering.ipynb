{
  "nbformat": 4,
  "nbformat_minor": 0,
  "metadata": {
    "colab": {
      "provenance": [],
      "machine_shape": "hm",
      "authorship_tag": "ABX9TyNOryLf9JLluijfMNp+8XqO",
      "include_colab_link": true
    },
    "kernelspec": {
      "name": "python3",
      "display_name": "Python 3"
    },
    "language_info": {
      "name": "python"
    },
    "accelerator": "GPU",
    "gpuClass": "standard"
  },
  "cells": [
    {
      "cell_type": "markdown",
      "metadata": {
        "id": "view-in-github",
        "colab_type": "text"
      },
      "source": [
        "<a href=\"https://colab.research.google.com/github/AlekhSaxena/Perceptron/blob/main/Question_answering.ipynb\" target=\"_parent\"><img src=\"https://colab.research.google.com/assets/colab-badge.svg\" alt=\"Open In Colab\"/></a>"
      ]
    },
    {
      "cell_type": "code",
      "execution_count": null,
      "metadata": {
        "id": "V7unClY_Niy0"
      },
      "outputs": [],
      "source": [
        "!git clone https://github.com/nlp-with-transformers/notebooks.git"
      ]
    },
    {
      "cell_type": "code",
      "source": [
        "cd notebooks"
      ],
      "metadata": {
        "id": "Gd7jFrjEPVnb"
      },
      "execution_count": null,
      "outputs": []
    },
    {
      "cell_type": "code",
      "source": [
        "from install import *"
      ],
      "metadata": {
        "id": "nkiUIqXkSW_H"
      },
      "execution_count": null,
      "outputs": []
    },
    {
      "cell_type": "code",
      "source": [
        "print('Alu')"
      ],
      "metadata": {
        "id": "ADsN8GZLSbj1"
      },
      "execution_count": null,
      "outputs": []
    },
    {
      "cell_type": "code",
      "source": [
        "install_requirements(is_chapter7_v2=True)"
      ],
      "metadata": {
        "id": "e9MIEfICSeUo"
      },
      "execution_count": null,
      "outputs": []
    },
    {
      "cell_type": "code",
      "source": [
        "%env TOKENIZERS_PARALLELISM=false"
      ],
      "metadata": {
        "id": "2t0ZIcDXgfos"
      },
      "execution_count": null,
      "outputs": []
    },
    {
      "cell_type": "code",
      "source": [
        "import logging\n",
        "for module in [\"farm.utils\", \"farm.infer\", \"haystack.reader.farm.FARMReader\",\n",
        "              \"farm.modeling.prediction_head\", \"elasticsearch\", \"haystack.eval\",\n",
        "               \"haystack.document_store.base\", \"haystack.retriever.base\", \n",
        "              \"farm.data_handler.dataset\"]:\n",
        "    module_logger = logging.getLogger(module)\n",
        "    module_logger.setLevel(logging.ERROR)"
      ],
      "metadata": {
        "id": "dhFiKvWog9Az"
      },
      "execution_count": null,
      "outputs": []
    },
    {
      "cell_type": "code",
      "source": [
        "from datasets import get_dataset_config_names\n",
        "\n",
        "domains = get_dataset_config_names(\"subjqa\")\n",
        "domains"
      ],
      "metadata": {
        "id": "bhq2dLySg9DJ"
      },
      "execution_count": null,
      "outputs": []
    },
    {
      "cell_type": "code",
      "source": [
        "from datasets import load_dataset\n",
        "\n",
        "subjqa = load_dataset(\"subjqa\", name=\"electronics\")"
      ],
      "metadata": {
        "id": "Vtk_9YDtg9F6"
      },
      "execution_count": null,
      "outputs": []
    },
    {
      "cell_type": "code",
      "source": [
        "print(subjqa[\"train\"][\"answers\"][1])"
      ],
      "metadata": {
        "id": "SK8uidrrg9Ig"
      },
      "execution_count": null,
      "outputs": []
    },
    {
      "cell_type": "code",
      "source": [
        "import pandas as pd\n",
        "dfs = {split: dset.to_pandas() for split, dset in subjqa.flatten().items()}\n",
        "\n",
        "for split, df in dfs.items():\n",
        "    print(f\"Number of questions in {split}: {df['id'].nunique()}\")"
      ],
      "metadata": {
        "id": "tWXT4yb4g9K9"
      },
      "execution_count": null,
      "outputs": []
    },
    {
      "cell_type": "code",
      "source": [
        "\n",
        "qa_cols = [\"title\", \"question\", \"answers.text\", \n",
        "           \"answers.answer_start\", \"context\"]\n",
        "sample_df = dfs[\"train\"][qa_cols].sample(2, random_state=7)\n",
        "sample_df"
      ],
      "metadata": {
        "id": "gPxxKUomg9Nq"
      },
      "execution_count": null,
      "outputs": []
    },
    {
      "cell_type": "code",
      "source": [
        "start_idx = sample_df[\"answers.answer_start\"].iloc[0][0]\n",
        "end_idx = start_idx + len(sample_df[\"answers.text\"].iloc[0][0])\n",
        "sample_df[\"context\"].iloc[0][start_idx:end_idx]"
      ],
      "metadata": {
        "id": "lozfpe8og9QK"
      },
      "execution_count": null,
      "outputs": []
    },
    {
      "cell_type": "code",
      "source": [
        "counts = {}\n",
        "question_types = [\"What\", \"How\", \"Is\", \"Does\", \"Do\", \"Was\", \"Where\", \"Why\"]\n",
        "\n",
        "for q in question_types:\n",
        "    counts[q] = dfs[\"train\"][\"question\"].str.startswith(q).value_counts()[True]\n",
        "\n",
        "pd.Series(counts).sort_values().plot.barh()\n",
        "plt.title(\"Frequency of Question Types\")\n",
        "plt.show()"
      ],
      "metadata": {
        "id": "WmYA6K_Sg9Tj"
      },
      "execution_count": null,
      "outputs": []
    },
    {
      "cell_type": "code",
      "source": [
        "for question_type in [\"How\", \"What\", \"Is\"]:\n",
        "    for question in (\n",
        "        dfs[\"train\"][dfs[\"train\"].question.str.startswith(question_type)]\n",
        "        .sample(n=3, random_state=42)['question']):\n",
        "        print(question)\n",
        "     "
      ],
      "metadata": {
        "id": "ayALOKymiTbD"
      },
      "execution_count": null,
      "outputs": []
    },
    {
      "cell_type": "code",
      "source": [
        "from transformers import AutoTokenizer\n",
        "\n",
        "model_ckpt = \"deepset/minilm-uncased-squad2\"\n",
        "tokenizer = AutoTokenizer.from_pretrained(model_ckpt)"
      ],
      "metadata": {
        "id": "1cXtYZFKiTdp"
      },
      "execution_count": null,
      "outputs": []
    },
    {
      "cell_type": "code",
      "source": [
        "question = \"How much music can this hold?\"\n",
        "context = \"\"\"An MP3 is about 1 MB/minute, so about 6000 hours depending on \\\n",
        "file size.\"\"\"\n",
        "inputs = tokenizer(question, context, return_tensors=\"pt\")"
      ],
      "metadata": {
        "id": "SLfaQveGiTgQ"
      },
      "execution_count": null,
      "outputs": []
    },
    {
      "cell_type": "code",
      "source": [
        "input_df = pd.DataFrame.from_dict(tokenizer(question, context), orient=\"index\")\n",
        "input_df"
      ],
      "metadata": {
        "id": "YI5nK3CiiTim"
      },
      "execution_count": null,
      "outputs": []
    },
    {
      "cell_type": "code",
      "source": [
        "print(tokenizer.decode(inputs[\"input_ids\"][0]))"
      ],
      "metadata": {
        "id": "l9FDJZdCiTlk"
      },
      "execution_count": null,
      "outputs": []
    },
    {
      "cell_type": "code",
      "source": [
        "import torch\n",
        "from transformers import AutoModelForQuestionAnswering"
      ],
      "metadata": {
        "id": "QMfAmiHJiTnR"
      },
      "execution_count": null,
      "outputs": []
    },
    {
      "cell_type": "code",
      "source": [
        "model = AutoModelForQuestionAnswering.from_pretrained(model_ckpt)"
      ],
      "metadata": {
        "id": "O0qh0T1wiTqr"
      },
      "execution_count": null,
      "outputs": []
    },
    {
      "cell_type": "code",
      "source": [
        "with torch.no_grad():\n",
        "    outputs = model(**inputs)\n",
        "print(outputs)"
      ],
      "metadata": {
        "id": "0VG57qmykJc3"
      },
      "execution_count": null,
      "outputs": []
    },
    {
      "cell_type": "code",
      "source": [
        "start_logits = outputs.start_logits\n",
        "end_logits = outputs.end_logits"
      ],
      "metadata": {
        "id": "fHmow6wukJgD"
      },
      "execution_count": null,
      "outputs": []
    },
    {
      "cell_type": "code",
      "source": [
        "print(f\"Input IDs shape: {inputs.input_ids.size()}\")\n",
        "print(f\"Start logits shape: {start_logits.size()}\")\n",
        "print(f\"End logits shape: {end_logits.size()}\")"
      ],
      "metadata": {
        "id": "RzNm87vykJig"
      },
      "execution_count": null,
      "outputs": []
    },
    {
      "cell_type": "code",
      "source": [
        "import numpy as np\n",
        "import matplotlib.pyplot as plt"
      ],
      "metadata": {
        "id": "38WQoR4bkJlY"
      },
      "execution_count": null,
      "outputs": []
    },
    {
      "cell_type": "code",
      "source": [
        "s_scores = start_logits.detach().numpy().flatten()\n",
        "e_scores = end_logits.detach().numpy().flatten()\n",
        "tokens = tokenizer.convert_ids_to_tokens(inputs[\"input_ids\"][0])\n",
        "token_ids = range(len(tokens))\n",
        "\n",
        "fig, (ax1, ax2) = plt.subplots(nrows=2, sharex=True)\n",
        "colors = [\"C0\" if s != np.max(s_scores) else \"C1\" for s in s_scores]\n",
        "ax1.bar(x=token_ids, height=s_scores, color=colors)\n",
        "ax1.set_ylabel(\"Start Scores\")\n",
        "colors = [\"C0\" if s != np.max(e_scores) else \"C1\" for s in e_scores]\n",
        "ax2.bar(x=token_ids, height=e_scores, color=colors)\n",
        "ax2.set_ylabel(\"End Scores\")\n",
        "plt.xticks(token_ids, tokens, rotation=\"vertical\")\n",
        "plt.show()"
      ],
      "metadata": {
        "id": "PS2SNxFQkJp4"
      },
      "execution_count": null,
      "outputs": []
    },
    {
      "cell_type": "code",
      "source": [
        "import torch \n",
        "\n",
        "start_idx = torch.argmax(start_logits)  \n",
        "end_idx = torch.argmax(end_logits) + 1  \n",
        "answer_span = inputs[\"input_ids\"][0][start_idx:end_idx]\n",
        "answer = tokenizer.decode(answer_span)\n",
        "print(f\"Question: {question}\")\n",
        "print(f\"Answer: {answer}\")"
      ],
      "metadata": {
        "id": "7nPRsntxkJtb"
      },
      "execution_count": null,
      "outputs": []
    },
    {
      "cell_type": "code",
      "source": [
        "from transformers import pipeline"
      ],
      "metadata": {
        "id": "7KqLMWExpGvk"
      },
      "execution_count": null,
      "outputs": []
    },
    {
      "cell_type": "code",
      "source": [
        "pipe = pipeline(\"question-answering\", model=model, tokenizer=tokenizer)\n",
        "pipe(question=question, context=context, topk=3)"
      ],
      "metadata": {
        "id": "YbG4L1nqpGzU"
      },
      "execution_count": null,
      "outputs": []
    },
    {
      "cell_type": "code",
      "source": [
        "pipe(question=\"Why is there no data?\", context=context, \n",
        "     handle_impossible_answer=True)"
      ],
      "metadata": {
        "id": "RzIUrN47pG27"
      },
      "execution_count": null,
      "outputs": []
    },
    {
      "cell_type": "code",
      "source": [
        "question=\"what are the benefits of 401(k) plan?\""
      ],
      "metadata": {
        "id": "1OUpAGnkpcKe"
      },
      "execution_count": null,
      "outputs": []
    },
    {
      "cell_type": "code",
      "source": [
        "context=\"\"\"\n",
        "Keep your 401(k) with your former employer\n",
        "Most companies—but not all—allow you to keep your retirement savings in their plans after you leave.\n",
        "Some benefits:\n",
        "Your money has the chance to continue to grow tax-deferred.\n",
        "You can take penalty-free withdrawals if you leave your job at age 55 or older.\n",
        "Many offer institutionally priced (i.e., lower-cost) or unique investment options.\n",
        "Federal law provides broad protection against creditors.\"\"\""
      ],
      "metadata": {
        "id": "kaqrdqThp725"
      },
      "execution_count": null,
      "outputs": []
    },
    {
      "cell_type": "code",
      "source": [
        "pipe(question=question, context=context, \n",
        "     handle_impossible_answer=True)"
      ],
      "metadata": {
        "id": "hLExRaJGpG64"
      },
      "execution_count": null,
      "outputs": []
    },
    {
      "cell_type": "code",
      "source": [
        "context=\"\"\"Changing or leaving a job can be an emotional time. You're probably excited about a new opportunity—and nervous too. And if you're retiring, the same can be said. As you say goodbye to your workplace, don’t forget about your 401(k) or 403(b) with that employer. You have several options and it’s an important decision.\n",
        "\n",
        "Because your 401(k) may be a big chunk of your retirement savings, it's important to weigh the pros and cons of your options and find the one that makes sense for you.\n",
        "\n",
        "Here are 4 choices to consider.\n",
        "\n",
        "1. Keep your 401(k) with your former employer\n",
        "Most companies—but not all—allow you to keep your retirement savings in their plans after you leave.\n",
        "\n",
        "Some benefits:\n",
        "1. Your money has the chance to continue to grow tax-deferred.\n",
        "2. You can take penalty-free withdrawals if you leave your job at age 55 or older.\n",
        "3. Many offer institutionally priced (i.e., lower-cost) or unique investment options.\n",
        "4. Federal law provides broad protection against creditors.\n",
        "But:\n",
        "If you have less than $5,000 in the plan, the money may be automatically sent to you (or sent to an IRA for you).\n",
        "If you choose to keep the money in your former employer's plan, you won't be able to add any more money to the account, or, in most cases, take a 401(k) loan.\n",
        "Withdrawal options may be limited. For instance, you may not be able to take a partial withdrawal; you may have to take the entire balance.\n",
        "After you reach age 72, you'll have to take annual required minimum distributions (RMDs).\n",
        "If you hold appreciated company stock in your workplace savings account, consider the potential impact of net unrealized appreciation (NUA) before choosing between staying in the plan, taking the stock in kind, or rolling over the stock to an IRA. Rolling over the stock to an IRA will eliminate any NUA.\n",
        "\n",
        "2. Roll over the money into an IRA\n",
        "A Rollover IRA is a retirement account that allows you to move money from your former employer-sponsored retirement plan into an IRA.\n",
        "\n",
        "You can open the IRA with a financial institution. Make sure to research fees and expenses when choosing an IRA provider, though, as they can really vary.\n",
        "\n",
        "Some benefits:\n",
        "Your money has the chance to continue to grow tax-deferred.\n",
        "If you're under age 59½, you can withdraw money penalty-free for a qualifying first-time home purchase or higher education expenses.1\n",
        "You may be able to get a broader range of investment choices than is available in an employer's plan.\n",
        "Rolling over assets can be done by source type. This means you can roll over Roth assets independently to a Roth IRA. You will not need to take RMDs from those Roth assets like you would have if they remained in plan.\n",
        "But:\n",
        "After you reach age 72, you’ll have to take annual required minimum distributions (RMDs) from a traditional IRA every year, even if you're still working.\n",
        "Federal law offers more protection for money in 401(k) plans than in IRAs. However, some states offer certain creditor protection for IRAs too.\n",
        "3. Roll over your 401(k) into a new employer's plan\n",
        "Not all employers will accept a rollover from a previous employer’s plan, so check with your new employer before making any decisions.\n",
        "\n",
        "Some benefits:\n",
        "Your money has the chance to continue to grow tax-deferred.\n",
        "Having only one 401(k) can make it easier to manage your retirement savings.\n",
        "Many plans offer lower-cost or plan-specific investment options.\n",
        "Federal law provides broad protection against creditors. You can defer RMDs even if you're still working after age 72.2\n",
        "But:\n",
        "Make sure to understand your new plan rules. \n",
        "Consider the range of investment options available in the new plan.\n",
        "4. Cash out\n",
        "Taking the money out of retirement accounts altogether should be avoided unless the immediate need for cash is critical and you have no other options. The consequences vary depending on your age and tax situation. If you withdraw from your 401(k) before age 59½, the money will generally be subject to both ordinary income taxes and a potential 10% early withdrawal penalty. (An early withdrawal penalty doesn't apply if you stopped working for your former employer in or after the year you reached age 55, but are not yet age 59½. This exception doesn’t apply to assets rolled over to an IRA.)\"\"\"\n"
      ],
      "metadata": {
        "id": "yuBMA4NWpG-P"
      },
      "execution_count": null,
      "outputs": []
    },
    {
      "cell_type": "code",
      "source": [
        "question=\"what are the benefits of 401(k) plan?\""
      ],
      "metadata": {
        "id": "Sqf1CIxmsC2T"
      },
      "execution_count": null,
      "outputs": []
    },
    {
      "cell_type": "code",
      "source": [
        "pipe(question=question, context=context, \n",
        "     handle_impossible_answer=True)"
      ],
      "metadata": {
        "id": "qYGRpgDUsBo9"
      },
      "execution_count": null,
      "outputs": []
    },
    {
      "cell_type": "code",
      "source": [
        "### We need to fine Tune the model"
      ],
      "metadata": {
        "id": "d5Vm9trcty23"
      },
      "execution_count": null,
      "outputs": []
    },
    {
      "cell_type": "code",
      "source": [
        "context=\"\"\"The traditional IRA and the Roth IRA offer ways to save for retirement, although each offers different benefits and advantages. This article explores the important decision variables when choosing between the 2, as well as the impact of each on your current vs. future tax liabilities.\n",
        "\n",
        "The traditional IRA allows an individual with earned income to take a tax deduction for dollars contributed (if income falls below a certain threshold), and the growth in the account is tax deferred. When distributions are taken from a traditional IRA, they are taxed as ordinary income. If one chooses not to take distributions from an IRA after reaching 59½, the IRS will force distributions to be taken at age 72. These are known as required minimum distributions (RMDs) and are based on the presumable retiree's life expectancy.\n",
        "\n",
        "In order to take the deduction in 2022, an employee who is covered by a workplace retirement plan (such as a 401(k) or a similar plan) must make less than $68,000 to $78,000 as an individual or $109,000 to $129,000 as a married couple. If one of two spouses is covered by an employer-sponsored plan, the income limits for the household are increased to $204,000 to $214,000, and if no one in a household is covered by a plan, there is no income limitation in order to deduct contributions to a Traditional IRA.\n",
        "\n",
        "For the ranges specified above, traditional IRA contributions are subject to an income phase-out rule, meaning that if your income falls within these ranges, your ability to take a tax deduction is phased out. So, for instance, as an individual in 2022, if you make less than $68,000, you will receive a full deduction; if you make between $68,000 and $78,000, you will receive a phased out deduction; and if you make more than $78,000, you will receive no deduction.\n",
        "\n",
        "The 2022 contribution limit for a traditional IRA is $6,000 with an extra $1,000 catch-up contribution for those 50 and over.\n",
        "\n",
        "The other option is a Roth IRA. The Roth IRA was established as an account into which after-tax dollars are invested. While the Roth gives no tax deduction on the front end, the growth—and eventual distribution—is federal tax-free. The Roth IRA allows one to take out 100% of contributions at any time for any reason with no taxes or penalties. It is only the growth on which one must wait until the age of 59½ to draw penalty-free. There is also a 5-year aging period, which means that a payment made from a Roth IRA account is considered a qualified distribution if it is made after a 5-year period, beginning with the first taxable year after which a contribution to the Roth IRA occurs. There are exceptions for death or disability, and there is a one-time $10,000 qualified distribution for first-time home buyers.\n",
        "\n",
        "As of 2022, if you make less than $129,000 for a single individual or $204,000 for a married couple, you can contribute $6,000 per person ($7,000 for individuals age 50 or older).\n",
        "\n",
        "For 2022, between $129,000 and $144,000 for an individual or $204,000 and $214,000 for a married couple, your allowable Roth contribution is phased out, and if you make over those top thresholds, you're not able to contribute to a Roth IRA.\n",
        "\n",
        "So now the stage is set for the epic battle: traditional IRA versus Roth IRA. The contrast is argued by many sides for various reasons. Most have focused on the difference between the 2 regarding taxation. It is commonly suggested for folks who would anticipate a higher rate of tax in the future, the Roth is the best option. For those, however, currently in their peak income earning years and expecting a lower tax rate in retirement, the traditional IRA has always been considered best.\n",
        "\n",
        "One decision variable to keep in mind too, however, is income tax levels in the future. Most of the income generated by those in retirement is taxable. Even though at its inception Social Security income was promised not to be taxed, now up to 85% of one's Social Security retirement benefit could be taxed, depending on income. Pension income is taxed, although some states do not tax recipients of some pension income to draw retirees to their state. And, of course, tax-deductible contributions to 401(k)s and IRAs are going to be taxed in the year in which you take a distribution.\n",
        "\n",
        "There are pros and cons to each retirement account, but ultimately the decision should be based on your own situation with special attention paid to your age and where you are in your career (peak income years versus retirement years).\"\"\"\n"
      ],
      "metadata": {
        "id": "7hyitwe_uPg8"
      },
      "execution_count": null,
      "outputs": []
    },
    {
      "cell_type": "markdown",
      "source": [
        "# New Section"
      ],
      "metadata": {
        "id": "3SmMJ-z-PnSs"
      }
    },
    {
      "cell_type": "code",
      "source": [
        "question=\"what is the age for Required minimum distribution?\""
      ],
      "metadata": {
        "id": "qA-U9Xv3um5f"
      },
      "execution_count": null,
      "outputs": []
    },
    {
      "cell_type": "code",
      "source": [
        "pipe(question=question, context=context, \n",
        "     handle_impossible_answer=True)"
      ],
      "metadata": {
        "id": "PbGk3QTqunHe"
      },
      "execution_count": null,
      "outputs": []
    },
    {
      "cell_type": "code",
      "source": [
        "question=\"what is the limitation on deduction?\""
      ],
      "metadata": {
        "id": "n3aw8olDunKG"
      },
      "execution_count": null,
      "outputs": []
    },
    {
      "cell_type": "code",
      "source": [
        "pipe(question=question, context=context, \n",
        "     handle_impossible_answer=True)"
      ],
      "metadata": {
        "id": "lueZ_84funNn"
      },
      "execution_count": null,
      "outputs": []
    },
    {
      "cell_type": "code",
      "source": [
        "question=\"whether Roth IRA is better than traditional IRA?\""
      ],
      "metadata": {
        "id": "5eiYzLfovpVs"
      },
      "execution_count": null,
      "outputs": []
    },
    {
      "cell_type": "code",
      "source": [
        "pipe(question=question, context=context, \n",
        "     handle_impossible_answer=True)"
      ],
      "metadata": {
        "id": "1Zz24ev5v7AS"
      },
      "execution_count": null,
      "outputs": []
    },
    {
      "cell_type": "code",
      "source": [
        "question=\"whether traditional IRA is better than roth IRA?\""
      ],
      "metadata": {
        "id": "DvwczIfJv8wp"
      },
      "execution_count": null,
      "outputs": []
    },
    {
      "cell_type": "code",
      "source": [
        "pipe(question=question, context=context, \n",
        "     handle_impossible_answer=True)"
      ],
      "metadata": {
        "id": "tUkkq0dnwE8b"
      },
      "execution_count": null,
      "outputs": []
    },
    {
      "cell_type": "code",
      "source": [
        "\n",
        "#hide_input\n",
        "#id subjqa-dist\n",
        "#caption Distribution of tokens for each question-context pair in the SubjQA training set\n",
        "def compute_input_length(row):\n",
        "    inputs = tokenizer(row[\"question\"], row[\"context\"])\n",
        "    return len(inputs[\"input_ids\"])\n",
        "\n",
        "dfs[\"train\"][\"n_tokens\"] = dfs[\"train\"].apply(compute_input_length, axis=1)\n",
        "\n",
        "fig, ax = plt.subplots()\n",
        "dfs[\"train\"][\"n_tokens\"].hist(bins=100, grid=False, ec=\"C0\", ax=ax)\n",
        "plt.xlabel(\"Number of tokens in question-context pair\")\n",
        "ax.axvline(x=512, ymin=0, ymax=1, linestyle=\"--\", color=\"C1\", \n",
        "           label=\"Maximum sequence length\")\n",
        "plt.legend()\n",
        "plt.ylabel(\"Count\")\n",
        "plt.show()"
      ],
      "metadata": {
        "id": "i4SsLp0iwGg8"
      },
      "execution_count": null,
      "outputs": []
    },
    {
      "cell_type": "code",
      "source": [
        "\n",
        "example = dfs[\"train\"].iloc[0][[\"question\", \"context\"]]\n",
        "tokenized_example = tokenizer(example[\"question\"], example[\"context\"], \n",
        "                              return_overflowing_tokens=True, max_length=100, \n",
        "                              stride=25)"
      ],
      "metadata": {
        "id": "OWO70Y28yXEm"
      },
      "execution_count": null,
      "outputs": []
    },
    {
      "cell_type": "code",
      "source": [
        "\n",
        "for idx, window in enumerate(tokenized_example[\"input_ids\"]):\n",
        "    print(f\"Window #{idx} has {len(window)} tokens\")"
      ],
      "metadata": {
        "id": "efA3vQpSyg7l"
      },
      "execution_count": null,
      "outputs": []
    },
    {
      "cell_type": "code",
      "source": [
        "\n",
        "for window in tokenized_example[\"input_ids\"]:\n",
        "    print(f\"{tokenizer.decode(window)} \\n\")\n",
        "     "
      ],
      "metadata": {
        "id": "eWv_VVNhyjv7"
      },
      "execution_count": null,
      "outputs": []
    },
    {
      "cell_type": "code",
      "source": [
        "url = \"\"\"https://artifacts.elastic.co/downloads/elasticsearch/\\\n",
        "elasticsearch-7.9.2-linux-x86_64.tar.gz\"\"\"\n",
        "!wget -nc -q {url}\n",
        "!tar -xzf elasticsearch-7.9.2-linux-x86_64.tar.gz"
      ],
      "metadata": {
        "id": "_ZlR1VYVymQm"
      },
      "execution_count": null,
      "outputs": []
    },
    {
      "cell_type": "code",
      "source": [
        "import os\n",
        "from subprocess import Popen, PIPE, STDOUT\n",
        "\n",
        "# Run Elasticsearch as a background process\n",
        "!chown -R daemon:daemon elasticsearch-7.9.2\n",
        "es_server = Popen(args=['elasticsearch-7.9.2/bin/elasticsearch'],\n",
        "                  stdout=PIPE, stderr=STDOUT, preexec_fn=lambda: os.setuid(1))\n",
        "# Wait until Elasticsearch has started\n",
        "!sleep 30"
      ],
      "metadata": {
        "id": "0zrrcrvJzUrp"
      },
      "execution_count": null,
      "outputs": []
    },
    {
      "cell_type": "code",
      "source": [
        "\n",
        "# Alternative if Docker is installed\n",
        "from haystack.utils import launch_es\n",
        "\n",
        "launch_es()"
      ],
      "metadata": {
        "id": "qtlw3g6xz6c-"
      },
      "execution_count": null,
      "outputs": []
    },
    {
      "cell_type": "code",
      "source": [
        "\n",
        "!curl -X GET \"localhost:9200/?pretty\""
      ],
      "metadata": {
        "id": "KAMNoikR0HHP"
      },
      "execution_count": null,
      "outputs": []
    },
    {
      "cell_type": "code",
      "source": [
        "from haystack.document_stores.elasticsearch import ElasticsearchDocumentStore\n",
        "\n",
        "# Return the document embedding for later use with dense retriever \n",
        "document_store = ElasticsearchDocumentStore(return_embedding=True)"
      ],
      "metadata": {
        "id": "NE0fusOH0LjA"
      },
      "execution_count": null,
      "outputs": []
    },
    {
      "cell_type": "code",
      "source": [
        "# It's a good idea to flush Elasticsearch with each notebook restart\n",
        "if len(document_store.get_all_documents()) or len(document_store.get_all_labels()) > 0:\n",
        "    document_store.delete_documents(index=\"document\")\n",
        "    document_store.delete_documents(index=\"label\")"
      ],
      "metadata": {
        "id": "pTVJgCFL0QeY"
      },
      "execution_count": null,
      "outputs": []
    },
    {
      "cell_type": "code",
      "source": [
        "\n",
        "for split, df in dfs.items():\n",
        "    # Exclude duplicate reviews\n",
        "    docs = [{\"content\": row[\"context\"], \"id\": row[\"review_id\"],\n",
        "             \"meta\":{\"item_id\": row[\"title\"], \"question_id\": row[\"id\"], \n",
        "                     \"split\": split}} \n",
        "        for _,row in df.drop_duplicates(subset=\"context\").iterrows()]\n",
        "    document_store.write_documents(documents=docs, index=\"document\")\n",
        "    \n",
        "print(f\"Loaded {document_store.get_document_count()} documents\")"
      ],
      "metadata": {
        "id": "m8NeNjeq0X0-"
      },
      "execution_count": null,
      "outputs": []
    },
    {
      "cell_type": "code",
      "source": [
        "from haystack.nodes.retriever import BM25Retriever\n",
        "\n",
        "bm25_retriever = BM25Retriever(document_store=document_store)"
      ],
      "metadata": {
        "id": "ptXNvB040b2F"
      },
      "execution_count": null,
      "outputs": []
    },
    {
      "cell_type": "code",
      "source": [
        "item_id = \"B0074BW614\"\n",
        "query = \"Is it good for reading?\"\n",
        "retrieved_docs = bm25_retriever.retrieve(\n",
        "    query=query, top_k=3, filters={\"item_id\":[item_id], \"split\":[\"train\"]})"
      ],
      "metadata": {
        "id": "5ZhW45Ki0guh"
      },
      "execution_count": null,
      "outputs": []
    },
    {
      "cell_type": "code",
      "source": [
        "\n",
        "print(retrieved_docs[0])"
      ],
      "metadata": {
        "id": "75p5gYGv0mRz"
      },
      "execution_count": null,
      "outputs": []
    },
    {
      "cell_type": "code",
      "source": [
        "\n",
        "from haystack.nodes import FARMReader\n",
        "\n",
        "model_ckpt = \"deepset/minilm-uncased-squad2\" #alternative larger models: deepset/roberta-base-squad2-distilled or deepset/xlm-roberta-large-squad2 or the tiny distilled model: deepset/tinyroberta-squad2\n",
        "max_seq_length, doc_stride = 384, 128\n",
        "reader = FARMReader(model_name_or_path=model_ckpt, progress_bar=False,\n",
        "                    max_seq_len=max_seq_length, doc_stride=doc_stride, \n",
        "                    return_no_answer=True)"
      ],
      "metadata": {
        "id": "pBKGMwDE0puq"
      },
      "execution_count": null,
      "outputs": []
    },
    {
      "cell_type": "code",
      "source": [
        "\n",
        "print(reader.predict_on_texts(question=question, texts=[context], top_k=1))"
      ],
      "metadata": {
        "id": "FgalX8ow0t_o"
      },
      "execution_count": null,
      "outputs": []
    },
    {
      "cell_type": "code",
      "source": [
        "from haystack.pipelines import ExtractiveQAPipeline\n",
        "\n",
        "pipe = ExtractiveQAPipeline(reader=reader, retriever=bm25_retriever)"
      ],
      "metadata": {
        "id": "_l0UYYCw1c6n"
      },
      "execution_count": null,
      "outputs": []
    },
    {
      "cell_type": "code",
      "source": [
        "\n",
        "n_answers = 3\n",
        "preds = pipe.run(query=query, params={\"Retriever\": {\"top_k\": 3, \"filters\":{\"item_id\": [item_id], \"split\":[\"train\"]}}, \n",
        "                                      \"Reader\": {\"top_k\": n_answers}})\n",
        "\n",
        "print(f\"Question: {preds['query']} \\n\")\n",
        "\n",
        "for idx in range(n_answers):\n",
        "    print(f\"Answer {idx+1}: {preds['answers'][idx].answer}\")\n",
        "    print(f\"Review snippet: ...{preds['answers'][idx].context}...\")\n",
        "    print(\"\\n\\n\")\n",
        "     "
      ],
      "metadata": {
        "id": "7csLuvjp1fl7"
      },
      "execution_count": null,
      "outputs": []
    },
    {
      "cell_type": "code",
      "source": [
        "from haystack.pipelines import DocumentSearchPipeline\n",
        "\n",
        "pipe = DocumentSearchPipeline(retriever=bm25_retriever)"
      ],
      "metadata": {
        "id": "0UbXjKfu1jLP"
      },
      "execution_count": null,
      "outputs": []
    },
    {
      "cell_type": "code",
      "source": [
        "from haystack import Label, Answer, Document\n",
        "\n",
        "labels = []\n",
        "for i, row in dfs[\"test\"].iterrows():\n",
        "    # Metadata used for filtering in the Retriever\n",
        "    meta = {\"item_id\": row[\"title\"], \"question_id\": row[\"id\"]}\n",
        "    # Populate labels for questions with answers\n",
        "    if len(row[\"answers.text\"]):\n",
        "        for answer in row[\"answers.text\"]:\n",
        "            label = Label(\n",
        "                query=row[\"question\"], answer=Answer(answer=answer), origin=\"gold-label\", document=Document(content=row[\"context\"], id=row[\"review_id\"]),\n",
        "                meta=meta, is_correct_answer=True, is_correct_document=True,\n",
        "                no_answer=False, filters={\"item_id\": [meta[\"item_id\"]], \"split\":[\"test\"]})\n",
        "            labels.append(label)\n",
        "    # Populate labels for questions without answers\n",
        "    else:\n",
        "        label = Label(\n",
        "            query=row[\"question\"], answer=Answer(answer=\"\"), origin=\"gold-label\", document=Document(content=row[\"context\"], id=row[\"review_id\"]),\n",
        "            meta=meta, is_correct_answer=True, is_correct_document=True,\n",
        "            no_answer=True, filters={\"item_id\": [row[\"title\"]], \"split\":[\"test\"]})  \n",
        "        labels.append(label)"
      ],
      "metadata": {
        "id": "j8JwPQFB1rwD"
      },
      "execution_count": null,
      "outputs": []
    },
    {
      "cell_type": "code",
      "source": [
        "document_store.write_labels(labels, index=\"label\")\n",
        "\n",
        "print(f\"\"\"Loaded {document_store.get_label_count(index=\"label\")} \\\n",
        "question-answer pairs\"\"\")"
      ],
      "metadata": {
        "id": "MHeRQUvR1xBt"
      },
      "execution_count": null,
      "outputs": []
    },
    {
      "cell_type": "code",
      "source": [
        "labels_agg = document_store.get_all_labels_aggregated(\n",
        "    index=\"label\",\n",
        "    open_domain=True,\n",
        "    aggregate_by_meta=[\"item_id\"]\n",
        ")\n",
        "print(len(labels_agg))"
      ],
      "metadata": {
        "id": "FUTBnJGS2lof"
      },
      "execution_count": null,
      "outputs": []
    },
    {
      "cell_type": "code",
      "source": [
        "eval_result = pipe.eval(\n",
        "    labels=labels_agg,\n",
        "    params={\"Retriever\": {\"top_k\": 3}},\n",
        ")\n",
        "metrics = eval_result.calculate_metrics()"
      ],
      "metadata": {
        "id": "iqi8Io6t2oVd"
      },
      "execution_count": null,
      "outputs": []
    },
    {
      "cell_type": "code",
      "source": [],
      "metadata": {
        "id": "KAKmFFQx2rQ1"
      },
      "execution_count": null,
      "outputs": []
    }
  ]
}