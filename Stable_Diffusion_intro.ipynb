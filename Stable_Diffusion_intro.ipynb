{
  "nbformat": 4,
  "nbformat_minor": 0,
  "metadata": {
    "colab": {
      "private_outputs": true,
      "provenance": [],
      "gpuType": "T4",
      "authorship_tag": "ABX9TyO2dcD5LV9LE9W19uKWO7Pe",
      "include_colab_link": true
    },
    "kernelspec": {
      "name": "python3",
      "display_name": "Python 3"
    },
    "language_info": {
      "name": "python"
    },
    "accelerator": "GPU"
  },
  "cells": [
    {
      "cell_type": "markdown",
      "metadata": {
        "id": "view-in-github",
        "colab_type": "text"
      },
      "source": [
        "<a href=\"https://colab.research.google.com/github/AlekhSaxena/Perceptron/blob/main/Stable_Diffusion_intro.ipynb\" target=\"_parent\"><img src=\"https://colab.research.google.com/assets/colab-badge.svg\" alt=\"Open In Colab\"/></a>"
      ]
    },
    {
      "cell_type": "code",
      "execution_count": null,
      "metadata": {
        "id": "HypOvHOo4qI2"
      },
      "outputs": [],
      "source": [
        "!nvidia-smi"
      ]
    },
    {
      "cell_type": "code",
      "source": [
        "!pip install diffusers==0.11.1\n",
        "!pip install -q accelerate transformers ftfy bitsandbytes==0.35.0 gradio natsort safetensors xformers"
      ],
      "metadata": {
        "id": "N69ZoaQA5B2R"
      },
      "execution_count": null,
      "outputs": []
    },
    {
      "cell_type": "code",
      "source": [
        "!pip install --quiet ipython-autotime\n",
        "%load_ext autotime"
      ],
      "metadata": {
        "id": "FUwJnTIe5KLE"
      },
      "execution_count": null,
      "outputs": []
    },
    {
      "cell_type": "code",
      "source": [
        "## Pipeline for Image Generation"
      ],
      "metadata": {
        "id": "3lfJ6XgK53dh"
      },
      "execution_count": null,
      "outputs": []
    },
    {
      "cell_type": "code",
      "source": [
        "import torch\n",
        "from diffusers import StableDiffusionPipeline"
      ],
      "metadata": {
        "id": "DQIoiFr_6LZc"
      },
      "execution_count": null,
      "outputs": []
    },
    {
      "cell_type": "code",
      "source": [
        "pipe = StableDiffusionPipeline.from_pretrained(\"CompVis/stable-diffusion-v1-4\", torch_dtype=torch.float16)"
      ],
      "metadata": {
        "id": "uCytYY6P6aTU"
      },
      "execution_count": null,
      "outputs": []
    },
    {
      "cell_type": "code",
      "source": [
        "pipe = pipe.to('cuda')"
      ],
      "metadata": {
        "id": "TIL1n0YY6ajt"
      },
      "execution_count": null,
      "outputs": []
    },
    {
      "cell_type": "code",
      "source": [
        "pipe.enable_attention_slicing()\n",
        "pipe.enable_xformers_memory_efficient_attention()"
      ],
      "metadata": {
        "id": "W3lkvS3j7h2N"
      },
      "execution_count": null,
      "outputs": []
    },
    {
      "cell_type": "code",
      "source": [
        "prompt = 'an apple'"
      ],
      "metadata": {
        "id": "20C8qbjq7naa"
      },
      "execution_count": null,
      "outputs": []
    },
    {
      "cell_type": "code",
      "source": [
        "img = pipe(prompt).images[0]"
      ],
      "metadata": {
        "id": "-yBSvXsc7p2E"
      },
      "execution_count": null,
      "outputs": []
    },
    {
      "cell_type": "code",
      "source": [
        "type(img)"
      ],
      "metadata": {
        "id": "cRkgaHMU7sd3"
      },
      "execution_count": null,
      "outputs": []
    },
    {
      "cell_type": "code",
      "source": [
        "img"
      ],
      "metadata": {
        "id": "2r-17qkZ8CCs"
      },
      "execution_count": null,
      "outputs": []
    },
    {
      "cell_type": "code",
      "source": [
        "prompt = 'photograph of an apple'\n",
        "img = pipe(prompt).images[0]\n",
        "img"
      ],
      "metadata": {
        "id": "VjkIjSo_8EA_"
      },
      "execution_count": null,
      "outputs": []
    },
    {
      "cell_type": "code",
      "source": [
        "## Def Generating Multiple Images"
      ],
      "metadata": {
        "id": "lZu5u8h08JJS"
      },
      "execution_count": null,
      "outputs": []
    },
    {
      "cell_type": "code",
      "source": [
        "from PIL import Image\n",
        "\n",
        "def grid_img(imgs, rows=1, cols=3, scale=1):\n",
        "  assert len(imgs) == rows * cols\n",
        "\n",
        "  w, h = imgs[0].size\n",
        "  w, h = int(w * scale), int(h * scale)\n",
        "\n",
        "  grid = Image.new('RGB', size = (cols * w, rows * h))\n",
        "  grid_w, grid_h = grid.size\n",
        "\n",
        "  for i, img in enumerate(imgs):\n",
        "    img = img.resize((w, h), Image.ANTIALIAS)\n",
        "    grid.paste(img, box=(i % cols * w, i // cols * h))\n",
        "  return grid"
      ],
      "metadata": {
        "id": "wCEK0-SO8Yxc"
      },
      "execution_count": null,
      "outputs": []
    },
    {
      "cell_type": "code",
      "source": [
        "num_imgs = 3\n",
        "prompt = 'photograph of an old car'\n",
        "imgs = pipe(prompt, num_images_per_prompt=num_imgs).images\n",
        "grid = grid_img(imgs, rows=1, cols=3, scale=0.75)\n",
        "grid"
      ],
      "metadata": {
        "id": "zl4oV1dL-NkY"
      },
      "execution_count": null,
      "outputs": []
    },
    {
      "cell_type": "code",
      "source": [
        "seed = 777\n",
        "prompt = \"photograph of a mountain landscape during sunset, stars in the sky\"\n",
        "generator = torch.Generator(\"cuda\").manual_seed(seed)\n",
        "h, w = 512, 768\n",
        "img = pipe(prompt, height=h, width=w,guidance_scale=10, num_inference_steps=20,generator=generator).images[0]\n",
        "img"
      ],
      "metadata": {
        "id": "Z42dNZB5-Q5i"
      },
      "execution_count": null,
      "outputs": []
    },
    {
      "cell_type": "code",
      "source": [
        "## Remove Black and white Photos\n",
        "num_images = 3\n",
        "\n",
        "prompt = 'photograph of an old car'\n",
        "neg_prompt = 'bw photo'\n",
        "\n",
        "imgs = pipe(prompt, negative_prompt = neg_prompt, num_images_per_prompt=num_images).images\n",
        "\n",
        "grid = grid_img(imgs, rows = 1, cols = 3, scale=0.75)\n",
        "grid"
      ],
      "metadata": {
        "id": "_4qWznJP-y3B"
      },
      "execution_count": null,
      "outputs": []
    },
    {
      "cell_type": "code",
      "source": [],
      "metadata": {
        "id": "Koa0asnW_1X1"
      },
      "execution_count": null,
      "outputs": []
    },
    {
      "cell_type": "markdown",
      "source": [
        "## Other Models Versions\n",
        "earlier 1.4 CompVis/stable-diffusion-v1-4<br>\n",
        "SD v1.5 runwayml/stable-diffusion-v1-5<br>\n",
        "SD v2.1 stabilityai/stable-diffusion-2-1 <br>\n",
        "\n"
      ],
      "metadata": {
        "id": "e-N5379UAWBr"
      }
    },
    {
      "cell_type": "markdown",
      "source": [
        "SD 1.5"
      ],
      "metadata": {
        "id": "COTJqCD4A9un"
      }
    },
    {
      "cell_type": "code",
      "source": [
        "sd15 = StableDiffusionPipeline.from_pretrained(\"runwayml/stable-diffusion-v1-5\", torch_dtype=torch.float16)\n",
        "sd15 = sd15.to('cuda')\n",
        "sd15.enable_attention_slicing()\n",
        "sd15.enable_xformers_memory_efficient_attention()"
      ],
      "metadata": {
        "id": "_s-Y-VX2BBod"
      },
      "execution_count": null,
      "outputs": []
    },
    {
      "cell_type": "code",
      "source": [
        "## Remove Black and white Photos\n",
        "num_images = 3\n",
        "\n",
        "prompt = 'photograph of an old car'\n",
        "neg_prompt = 'bw photo'\n",
        "\n",
        "imgs = sd15(prompt, negative_prompt = neg_prompt, num_images_per_prompt=num_images).images\n",
        "\n",
        "grid = grid_img(imgs, rows = 1, cols = 3, scale=0.75)\n",
        "grid"
      ],
      "metadata": {
        "id": "Q2MiIPxUBFT-"
      },
      "execution_count": null,
      "outputs": []
    },
    {
      "cell_type": "code",
      "source": [
        "sd2 = StableDiffusionPipeline.from_pretrained(\"stabilityai/stable-diffusion-2-1\", torch_dtype=torch.float16)\n",
        "sd2 = sd2.to(\"cuda\")\n",
        "sd2.enable_attention_slicing()\n",
        "sd2.enable_xformers_memory_efficient_attention()"
      ],
      "metadata": {
        "id": "3yJiOS0rCYXw"
      },
      "execution_count": null,
      "outputs": []
    },
    {
      "cell_type": "code",
      "source": [
        "## Remove Black and white Photos\n",
        "num_images = 3\n",
        "\n",
        "prompt = 'photograph of an old car'\n",
        "neg_prompt = 'bw photo'\n",
        "\n",
        "imgs = sd2(prompt, negative_prompt = neg_prompt, num_images_per_prompt=num_images).images\n",
        "\n",
        "grid = grid_img(imgs, rows = 1, cols = 3, scale=0.75)\n",
        "grid"
      ],
      "metadata": {
        "id": "dbg2wKLTCr0l"
      },
      "execution_count": null,
      "outputs": []
    },
    {
      "cell_type": "code",
      "source": [
        "seed = 777\n",
        "prompt = \"a photo of a terrier wearing sunglasses, on the beach, ocean in the background\"\n",
        "generator = torch.Generator('cuda').manual_seed(seed)\n",
        "img = sd2(prompt, generator=generator).images[0]\n",
        "img"
      ],
      "metadata": {
        "id": "Q7G1SnhyEQFQ"
      },
      "execution_count": null,
      "outputs": []
    },
    {
      "cell_type": "code",
      "source": [
        "sd2.scheduler.compatibles"
      ],
      "metadata": {
        "id": "LOlUNgxFFVT0"
      },
      "execution_count": null,
      "outputs": []
    },
    {
      "cell_type": "code",
      "source": [
        "sd2.scheduler.config"
      ],
      "metadata": {
        "id": "3tXulElvFrOI"
      },
      "execution_count": null,
      "outputs": []
    },
    {
      "cell_type": "code",
      "source": [
        "from diffusers import LMSDiscreteScheduler\n",
        "sd2.scheduler = LMSDiscreteScheduler.from_config(sd2.scheduler.config)\n",
        "generator = torch.Generator(device = 'cuda').manual_seed(seed)\n",
        "img = sd2(prompt, num_inference_steps = 60, generator=generator).images[0]\n",
        "img"
      ],
      "metadata": {
        "id": "tMsj9SisF512"
      },
      "execution_count": null,
      "outputs": []
    },
    {
      "cell_type": "code",
      "source": [
        "from diffusers import EulerAncestralDiscreteScheduler\n",
        "\n",
        "sd2.scheduler = EulerAncestralDiscreteScheduler.from_config(sd2.scheduler.config)\n",
        "\n",
        "generator = torch.Generator(device=\"cuda\").manual_seed(seed)\n",
        "img = sd2(prompt, generator=generator, num_inference_steps=50).images[0]\n",
        "img"
      ],
      "metadata": {
        "id": "Nz4GK2PrGLO1"
      },
      "execution_count": null,
      "outputs": []
    },
    {
      "cell_type": "code",
      "source": [],
      "metadata": {
        "id": "zqLPE_enGc_3"
      },
      "execution_count": null,
      "outputs": []
    }
  ]
}